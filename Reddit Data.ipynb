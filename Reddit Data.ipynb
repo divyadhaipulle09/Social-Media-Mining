{
 "cells": [
  {
   "cell_type": "code",
   "execution_count": 1,
   "id": "90ae0f42",
   "metadata": {},
   "outputs": [],
   "source": [
    "client_id='GLUzrHSfY3kIg_NXZpjdLg'\n",
    "client_secret='FvNY5j77jEYvGQrMJQmtPBFNHAVSMQ'\n",
    "user_agent= 'my_bot/0.0.1'"
   ]
  },
  {
   "cell_type": "code",
   "execution_count": 2,
   "id": "ce8220a7",
   "metadata": {},
   "outputs": [
    {
     "data": {
      "text/html": [
       "<div>\n",
       "<style scoped>\n",
       "    .dataframe tbody tr th:only-of-type {\n",
       "        vertical-align: middle;\n",
       "    }\n",
       "\n",
       "    .dataframe tbody tr th {\n",
       "        vertical-align: top;\n",
       "    }\n",
       "\n",
       "    .dataframe thead th {\n",
       "        text-align: right;\n",
       "    }\n",
       "</style>\n",
       "<table border=\"1\" class=\"dataframe\">\n",
       "  <thead>\n",
       "    <tr style=\"text-align: right;\">\n",
       "      <th></th>\n",
       "      <th>id</th>\n",
       "      <th>title</th>\n",
       "      <th>author</th>\n",
       "      <th>created_utc</th>\n",
       "      <th>num_comments</th>\n",
       "      <th>score</th>\n",
       "    </tr>\n",
       "  </thead>\n",
       "  <tbody>\n",
       "    <tr>\n",
       "      <th>0</th>\n",
       "      <td>113ictt</td>\n",
       "      <td>Netflix’s desperate crackdown on password shar...</td>\n",
       "      <td>Defiant_Race_7544</td>\n",
       "      <td>1676523183.0</td>\n",
       "      <td>4394</td>\n",
       "      <td>50326</td>\n",
       "    </tr>\n",
       "    <tr>\n",
       "      <th>1</th>\n",
       "      <td>119zb52</td>\n",
       "      <td>Google tells employees to share desks as it lo...</td>\n",
       "      <td>chrisdh79</td>\n",
       "      <td>1677163280.0</td>\n",
       "      <td>3738</td>\n",
       "      <td>48756</td>\n",
       "    </tr>\n",
       "    <tr>\n",
       "      <th>2</th>\n",
       "      <td>11indx4</td>\n",
       "      <td>Facebook and Google are handing over user data...</td>\n",
       "      <td>Showdy</td>\n",
       "      <td>1677990267.0</td>\n",
       "      <td>3180</td>\n",
       "      <td>45921</td>\n",
       "    </tr>\n",
       "    <tr>\n",
       "      <th>3</th>\n",
       "      <td>11f5d0j</td>\n",
       "      <td>Airbnb Is Banning People Who Are ‘Closely Asso...</td>\n",
       "      <td>chrisdh79</td>\n",
       "      <td>1677681413.0</td>\n",
       "      <td>3041</td>\n",
       "      <td>39632</td>\n",
       "    </tr>\n",
       "    <tr>\n",
       "      <th>4</th>\n",
       "      <td>11bizcv</td>\n",
       "      <td>Thank you ChatGPT for exposing the banality of...</td>\n",
       "      <td>Parking_Attitude_519</td>\n",
       "      <td>1677324980.0</td>\n",
       "      <td>2035</td>\n",
       "      <td>32089</td>\n",
       "    </tr>\n",
       "  </tbody>\n",
       "</table>\n",
       "</div>"
      ],
      "text/plain": [
       "        id                                              title  \\\n",
       "0  113ictt  Netflix’s desperate crackdown on password shar...   \n",
       "1  119zb52  Google tells employees to share desks as it lo...   \n",
       "2  11indx4  Facebook and Google are handing over user data...   \n",
       "3  11f5d0j  Airbnb Is Banning People Who Are ‘Closely Asso...   \n",
       "4  11bizcv  Thank you ChatGPT for exposing the banality of...   \n",
       "\n",
       "                 author   created_utc num_comments  score  \n",
       "0     Defiant_Race_7544  1676523183.0         4394  50326  \n",
       "1             chrisdh79  1677163280.0         3738  48756  \n",
       "2                Showdy  1677990267.0         3180  45921  \n",
       "3             chrisdh79  1677681413.0         3041  39632  \n",
       "4  Parking_Attitude_519  1677324980.0         2035  32089  "
      ]
     },
     "execution_count": 2,
     "metadata": {},
     "output_type": "execute_result"
    }
   ],
   "source": [
    "import pandas as pd\n",
    "import praw\n",
    "import re\n",
    "client_id='GLUzrHSfY3kIg_NXZpjdLg'\n",
    "client_secret='FvNY5j77jEYvGQrMJQmtPBFNHAVSMQ'\n",
    "user_agent= 'my_bot/0.0.1'\n",
    "# Authenticate with Reddit API\n",
    "reddit = praw.Reddit(client_id=client_id,\n",
    "                     client_secret=client_secret,\n",
    "                     user_agent=user_agent)\n",
    "\n",
    "# Define subreddits to scrape\n",
    "subreddits = ['technology', 'wallstreetbets', 'ProgrammerHumor', 'programming', 'stocks', 'ChatGPT','iiiiiiitttttttttttt',\n",
    "             'bardai', 'artificial', 'singularity','AskReddit','CryptoCurrency']\n",
    "\n",
    "# Define list of columns to extract from submissions\n",
    "columns = ['id', 'title', 'author', 'created_utc', 'num_comments', 'score']\n",
    "\n",
    "# Define list of keywords to filter submissions\n",
    "keywords = ['chatgpt', 'google', 'bard', 'bard.ai', 'accuracy', 'ai', 'openAi', 'bing', 'people', 'think']\n",
    "\n",
    "# Create empty list to store relevant submissions data\n",
    "relevant_submissions_data = []\n",
    "\n",
    "# Loop through each subreddit and extract relevant submissions data\n",
    "for subreddit in subreddits:\n",
    "    subreddit_data = reddit.subreddit(subreddit).top(time_filter='month', limit=100)\n",
    "    for submission in subreddit_data:\n",
    "        submission_title = submission.title.lower()\n",
    "        submission_body = submission.selftext.lower()\n",
    "        if any(re.search(keyword.lower(), submission_title) or re.search(keyword.lower(), submission_body) for keyword in keywords):\n",
    "            submission_info = {}\n",
    "            for column in columns:\n",
    "                submission_info[column] = str(getattr(submission, column))\n",
    "            relevant_submissions_data.append(submission_info)\n",
    "\n",
    "# Convert relevant submissions data to Pandas dataframe\n",
    "df_reddit = pd.DataFrame(relevant_submissions_data)\n",
    "\n",
    "# Write dataframe to CSV file\n",
    "df_reddit.to_csv('RedditData.csv', index=False)\n",
    "df_reddit.head()\n"
   ]
  },
  {
   "cell_type": "code",
   "execution_count": 3,
   "id": "d498b1eb",
   "metadata": {},
   "outputs": [
    {
     "data": {
      "text/plain": [
       "(484, 6)"
      ]
     },
     "execution_count": 3,
     "metadata": {},
     "output_type": "execute_result"
    }
   ],
   "source": [
    "df_reddit.shape"
   ]
  },
  {
   "cell_type": "code",
   "execution_count": null,
   "id": "a53b775d",
   "metadata": {},
   "outputs": [],
   "source": []
  }
 ],
 "metadata": {
  "kernelspec": {
   "display_name": "Python 3 (ipykernel)",
   "language": "python",
   "name": "python3"
  },
  "language_info": {
   "codemirror_mode": {
    "name": "ipython",
    "version": 3
   },
   "file_extension": ".py",
   "mimetype": "text/x-python",
   "name": "python",
   "nbconvert_exporter": "python",
   "pygments_lexer": "ipython3",
   "version": "3.9.13"
  }
 },
 "nbformat": 4,
 "nbformat_minor": 5
}
