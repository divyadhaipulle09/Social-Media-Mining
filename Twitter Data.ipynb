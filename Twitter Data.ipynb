{
 "cells": [
  {
   "cell_type": "code",
   "execution_count": 2,
   "id": "cac94aa4",
   "metadata": {},
   "outputs": [],
   "source": [
    "import pandas as pd\n",
    "\n",
    "with open(\"TwitterData.csv\", encoding='utf-8') as f:\n",
    "    data = f.readlines()\n",
    "\n",
    "ids = []\n",
    "dates = []\n",
    "times = []\n",
    "users = []\n",
    "texts = []\n",
    "\n",
    "for line in data:\n",
    "    cols = line.split(\" \")\n",
    "    ids.append(cols[0])\n",
    "    dates.append(cols[1])\n",
    "    times.append(cols[2])\n",
    "    user_text = cols[3].split(\"<\")\n",
    "    if len(user_text) > 1:\n",
    "        users.append(user_text[1][:-1])\n",
    "        texts.append(\">\".join(user_text[2:]) + \" \".join(cols[4:]).strip())\n",
    "    else:\n",
    "        users.append('')\n",
    "        texts.append(\" \".join(cols[3:]).strip())\n",
    "\n",
    "df_twitter = pd.DataFrame({'id': ids, 'date': dates, 'time': times, 'user': users, 'text': texts})\n",
    "\n",
    "# separate user from text\n",
    "df_twitter[['user', 'text']] = df_twitter['text'].str.extract(r'<(.+?)>\\s?(.+)', expand=True)\n"
   ]
  },
  {
   "cell_type": "code",
   "execution_count": null,
   "id": "616738c2",
   "metadata": {},
   "outputs": [],
   "source": []
  }
 ],
 "metadata": {
  "kernelspec": {
   "display_name": "Python 3 (ipykernel)",
   "language": "python",
   "name": "python3"
  },
  "language_info": {
   "codemirror_mode": {
    "name": "ipython",
    "version": 3
   },
   "file_extension": ".py",
   "mimetype": "text/x-python",
   "name": "python",
   "nbconvert_exporter": "python",
   "pygments_lexer": "ipython3",
   "version": "3.9.13"
  }
 },
 "nbformat": 4,
 "nbformat_minor": 5
}
